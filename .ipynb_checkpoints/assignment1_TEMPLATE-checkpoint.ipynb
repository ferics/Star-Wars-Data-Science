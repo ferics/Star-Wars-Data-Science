{
 "cells": [
  {
   "cell_type": "code",
   "execution_count": 1,
   "metadata": {},
   "outputs": [],
   "source": [
    "#Task 1: Data Preparation\n",
    "import pandas as pd\n",
    "import matplotlib.pyplot as plt\n",
    "import numpy as np\n",
    "import sklearn as sk\n",
    "import math"
   ]
  },
  {
   "cell_type": "code",
   "execution_count": 2,
   "metadata": {},
   "outputs": [
    {
     "name": "stderr",
     "output_type": "stream",
     "text": [
      "D:\\Anaconda3\\lib\\site-packages\\pandas\\core\\indexes\\base.py:3941: FutureWarning: Using a non-tuple sequence for multidimensional indexing is deprecated; use `arr[tuple(seq)]` instead of `arr[seq]`. In the future this will be interpreted as an array index, `arr[np.array(seq)]`, which will result either in an error or a different result.\n",
      "  result = getitem(key)\n"
     ]
    },
    {
     "ename": "IndexError",
     "evalue": "only integers, slices (`:`), ellipsis (`...`), numpy.newaxis (`None`) and integer or boolean arrays are valid indices",
     "output_type": "error",
     "traceback": [
      "\u001b[1;31m---------------------------------------------------------------------------\u001b[0m",
      "\u001b[1;31mIndexError\u001b[0m                                Traceback (most recent call last)",
      "\u001b[1;32m<ipython-input-2-74ed26264a4e>\u001b[0m in \u001b[0;36m<module>\u001b[1;34m\u001b[0m\n\u001b[0;32m     34\u001b[0m \u001b[1;33m\u001b[0m\u001b[0m\n\u001b[0;32m     35\u001b[0m \u001b[1;32mfor\u001b[0m \u001b[0mcol\u001b[0m \u001b[1;32min\u001b[0m \u001b[0mwatched_columns\u001b[0m\u001b[1;33m:\u001b[0m\u001b[1;33m\u001b[0m\u001b[1;33m\u001b[0m\u001b[0m\n\u001b[1;32m---> 36\u001b[1;33m     \u001b[0mdata\u001b[0m\u001b[1;33m.\u001b[0m\u001b[0mrename\u001b[0m\u001b[1;33m(\u001b[0m\u001b[0mcolumns\u001b[0m\u001b[1;33m=\u001b[0m\u001b[1;33m{\u001b[0m\u001b[0mdata\u001b[0m\u001b[1;33m.\u001b[0m\u001b[0mcolumns\u001b[0m\u001b[1;33m[\u001b[0m\u001b[0mwatched_columns\u001b[0m\u001b[1;33m]\u001b[0m\u001b[1;33m:\u001b[0m \u001b[0mcol\u001b[0m\u001b[1;33m}\u001b[0m\u001b[1;33m,\u001b[0m \u001b[0minplace\u001b[0m \u001b[1;33m=\u001b[0m \u001b[1;32mTrue\u001b[0m\u001b[1;33m)\u001b[0m\u001b[1;33m\u001b[0m\u001b[1;33m\u001b[0m\u001b[0m\n\u001b[0m\u001b[0;32m     37\u001b[0m     \u001b[0mwatchedIndex\u001b[0m \u001b[1;33m+=\u001b[0m \u001b[1;36m1\u001b[0m\u001b[1;33m\u001b[0m\u001b[1;33m\u001b[0m\u001b[0m\n\u001b[0;32m     38\u001b[0m     \u001b[1;32mfor\u001b[0m \u001b[0mi\u001b[0m\u001b[1;33m,\u001b[0m \u001b[0mrow\u001b[0m \u001b[1;32min\u001b[0m \u001b[0mdata\u001b[0m\u001b[1;33m[\u001b[0m\u001b[0mcol\u001b[0m\u001b[1;33m]\u001b[0m\u001b[1;33m.\u001b[0m\u001b[0minteritems\u001b[0m\u001b[1;33m(\u001b[0m\u001b[1;33m)\u001b[0m\u001b[1;33m:\u001b[0m\u001b[1;33m\u001b[0m\u001b[1;33m\u001b[0m\u001b[0m\n",
      "\u001b[1;32mD:\\Anaconda3\\lib\\site-packages\\pandas\\core\\indexes\\base.py\u001b[0m in \u001b[0;36m__getitem__\u001b[1;34m(self, key)\u001b[0m\n\u001b[0;32m   3939\u001b[0m \u001b[1;33m\u001b[0m\u001b[0m\n\u001b[0;32m   3940\u001b[0m         \u001b[0mkey\u001b[0m \u001b[1;33m=\u001b[0m \u001b[0mcom\u001b[0m\u001b[1;33m.\u001b[0m\u001b[0mvalues_from_object\u001b[0m\u001b[1;33m(\u001b[0m\u001b[0mkey\u001b[0m\u001b[1;33m)\u001b[0m\u001b[1;33m\u001b[0m\u001b[1;33m\u001b[0m\u001b[0m\n\u001b[1;32m-> 3941\u001b[1;33m         \u001b[0mresult\u001b[0m \u001b[1;33m=\u001b[0m \u001b[0mgetitem\u001b[0m\u001b[1;33m(\u001b[0m\u001b[0mkey\u001b[0m\u001b[1;33m)\u001b[0m\u001b[1;33m\u001b[0m\u001b[1;33m\u001b[0m\u001b[0m\n\u001b[0m\u001b[0;32m   3942\u001b[0m         \u001b[1;32mif\u001b[0m \u001b[1;32mnot\u001b[0m \u001b[0mis_scalar\u001b[0m\u001b[1;33m(\u001b[0m\u001b[0mresult\u001b[0m\u001b[1;33m)\u001b[0m\u001b[1;33m:\u001b[0m\u001b[1;33m\u001b[0m\u001b[1;33m\u001b[0m\u001b[0m\n\u001b[0;32m   3943\u001b[0m             \u001b[1;32mif\u001b[0m \u001b[0mnp\u001b[0m\u001b[1;33m.\u001b[0m\u001b[0mndim\u001b[0m\u001b[1;33m(\u001b[0m\u001b[0mresult\u001b[0m\u001b[1;33m)\u001b[0m \u001b[1;33m>\u001b[0m \u001b[1;36m1\u001b[0m\u001b[1;33m:\u001b[0m\u001b[1;33m\u001b[0m\u001b[1;33m\u001b[0m\u001b[0m\n",
      "\u001b[1;31mIndexError\u001b[0m: only integers, slices (`:`), ellipsis (`...`), numpy.newaxis (`None`) and integer or boolean arrays are valid indices"
     ]
    }
   ],
   "source": [
    "data = pd.read_csv('StarWars.csv',encoding='unicode escape',header=[0],index_col=0)\n",
    "\n",
    "data.rename(columns={\"Which of the following Star Wars films have you seen? Please select all that apply.\": \"Seen Ep I\",\n",
    "                     \"Unnamed: 4\": \"Seen Ep II\",\n",
    "                     \"Unnamed: 5\": \"Seen Ep III\",\n",
    "                     \"Unnamed: 6\": \"Seen Ep IV\",\n",
    "                     \"Unnamed: 7\": \"Seen Ep V\",\n",
    "                     \"Unnamed: 8\": \"Seen Ep VI\",\n",
    "                     \"Please rank the Star Wars films in order of preference with 1 being your favorite film in the franchise and 6 being your least favorite film.\": \"Rank the film from 1-6 for EP I\",\n",
    "                     \"Unnamed: 10\": \"Rank The Film From 1-6 for EP II\",\n",
    "                     \"Unnamed: 11\": \"Rank The Film From 1-6 for EP III\",\n",
    "                     \"Unnamed: 12\": \"Rank The Film From 1-6 for EP IV\",\n",
    "                     \"Unnamed: 13\": \"Rank The Film From 1-6 for EP V\",\n",
    "                     \"Unnamed: 14\": \"Rank The Film From 1-6 for EP VI\",\n",
    "                     \"Please state whether you view the following characters favorably, unfavorably, or are unfamiliar with\": \"How do you like the character: Han Solo\",\n",
    "                     \"Unnamed: 16\": \"How do you like the character: Luke Skywalker\",\n",
    "                     \"Unnamed: 17\": \"How do you like the character: Princess Leia Organa\",\n",
    "                     \"Unnamed: 18\": \"How do you like the character: Anakin Skywalker\",\n",
    "                     \"Unnamed: 19\": \"How do you like the character: Obi Wan Kenobi\",\n",
    "                     \"Unnamed: 20\": \"How do you like the character: Emperor Palpatine\",\n",
    "                     \"Unnamed: 21\": \"How do you like the character: Darth Vader\",\n",
    "                     \"Unnamed: 22\": \"How do you like the character: Lando Calrissian\",\n",
    "                     \"Unnamed: 23\": \"How do you like the character: Boba Fett\",\n",
    "                     \"Unnamed: 24\": \"How do you like the character: C-3P0\",\n",
    "                     \"Unnamed: 25\": \"How do you like the character: R2 D2\",\n",
    "                     \"Unnamed: 26\": \"How do you like the character: Jar Jar Binks\",\n",
    "                     \"Unnamed: 27\": \"How do you like the character: Padme Amidala\",\n",
    "                     \"Unnamed: 28\": \"How do you like the character: Yoda\"})\n",
    "\n",
    "# data.drop[0]\n",
    "\n",
    "watched_columns = [\"Seen Ep I\",\"Seen Ep II\",\"Seen Ep III\",\"Seen Ep IV\",\"Seen Ep V\",\"Seen Ep VI\"]\n",
    "watchedIndex = 1\n",
    "\n",
    "for col in watched_columns:\n",
    "    data.rename(columns={data.columns[watched_columns]: col}, inplace = True)\n",
    "    watchedIndex += 1\n",
    "    for i, row in data[col].interitems():\n",
    "        value\n",
    "        if type(row) == float:\n",
    "            data.at[i, col] = False\n",
    "        else:\n",
    "            data.at[i, col] = True"
   ]
  },
  {
   "cell_type": "code",
   "execution_count": null,
   "metadata": {},
   "outputs": [],
   "source": []
  }
 ],
 "metadata": {
  "kernelspec": {
   "display_name": "Python 3.7.6 64-bit ('base': conda)",
   "language": "python",
   "name": "python37664bitbaseconda6937c3e0cf974f00897ed66376425a49"
  },
  "language_info": {
   "codemirror_mode": {
    "name": "ipython",
    "version": 3
   },
   "file_extension": ".py",
   "mimetype": "text/x-python",
   "name": "python",
   "nbconvert_exporter": "python",
   "pygments_lexer": "ipython3",
   "version": "3.7.6"
  }
 },
 "nbformat": 4,
 "nbformat_minor": 4
}
