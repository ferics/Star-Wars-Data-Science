{
 "nbformat": 4,
 "nbformat_minor": 2,
 "metadata": {
  "language_info": {
   "name": "python",
   "codemirror_mode": {
    "name": "ipython",
    "version": 3
   },
   "version": "3.7.6-final"
  },
  "orig_nbformat": 2,
  "file_extension": ".py",
  "mimetype": "text/x-python",
  "name": "python",
  "npconvert_exporter": "python",
  "pygments_lexer": "ipython3",
  "version": 3,
  "kernelspec": {
   "name": "python37664bitbaseconda6937c3e0cf974f00897ed66376425a49",
   "display_name": "Python 3.7.6 64-bit ('base': conda)"
  }
 },
 "cells": [
  {
   "cell_type": "code",
   "execution_count": null,
   "metadata": {},
   "outputs": [],
   "source": [
    "# watched_columns = [\"Seen Ep I\",\"Seen Ep II\",\"Seen Ep III\",\"Seen Ep IV\",\"Seen Ep V\",\"Seen Ep VI\"]\n",
    "# watchedIndex = 0\n",
    "\n",
    "# for col in watched_columns:\n",
    "#     data.rename(columns={data.columns[watchedIndex]: col}, inplace = True)\n",
    "#     watchedIndex += 1\n",
    "#     for i, row in data[col].iteritems():\n",
    "#         if type(row) == object:\n",
    "#             data.at[i, col] = False\n",
    "#         else:\n",
    "#             data.at[i, col] = True\n",
    "\n",
    "# data.replace({'Seen Ep I': 'Star Wars: Episode I  The Phantom Menace',\n",
    "#               'Seen Ep II': 'Star Wars: Episode II  Attack of the Clones',\n",
    "#               'Seen Ep II': 'Star Wars: Episode III  Revenge of the Sith',\n",
    "#               'Seen Ep III': 'Star Wars: Episode III Revenge of the Sith',\n",
    "#               'Seen Ep IV': 'Star Wars: Episode IV  A New Hope',\n",
    "#               'Seen Ep V': 'Star Wars: Episode V The Empire Strikes Back',\n",
    "#               'Seen Ep VI': 'Star Wars: Episode VI Return of the Jedi'}, 'Watched')\n",
    "\n",
    "# data = data.replace({'Seen Ep I': {'Star Wars: Episode I The Phantom Menace': 'Watched', 'NaN': 'Not Watched'}})\n",
    "\n",
    "# data['Seen Ep I'].value_counts()\n",
    "# data['Seen Ep II'].value_counts()\n",
    "# data['Seen Ep III'].value_counts()\n",
    "# data['Seen Ep IV'].value_counts()\n",
    "# data['Seen Ep V'].value_counts()\n",
    "# data['Seen Ep VI'].value_counts()"
   ]
  }
 ]
}