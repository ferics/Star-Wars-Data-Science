{
 "cells": [
  {
   "cell_type": "code",
   "execution_count": 1,
   "metadata": {},
   "outputs": [],
   "source": [
    "#Task 1: Data Preparation\n",
    "import pandas as pd\n",
    "import matplotlib.pyplot as plt\n",
    "import numpy as np\n",
    "import sklearn as sk\n",
    "import math"
   ]
  },
  {
   "cell_type": "code",
   "execution_count": 7,
   "metadata": {},
   "outputs": [
    {
     "output_type": "execute_result",
     "data": {
      "text/plain": "5    300\n4    183\n2    116\n3    103\n6    102\n1     32\nName: Rank The Film From 1-6 for EP II, dtype: int64"
     },
     "metadata": {},
     "execution_count": 7
    }
   ],
   "source": [
    "data = pd.read_csv('StarWars.csv',encoding='unicode escape',header=None)\n",
    "data = data.drop([0,1])\n",
    "\n",
    "data.columns = ['Respondent ID',\n",
    "                'Watched the Star Wars franchise?',\n",
    "                'Fan of the franchise?',\n",
    "                'Seen Ep I',\n",
    "                'Seen Ep II',\n",
    "                'Seen Ep III',\n",
    "                'Seen Ep IV',\n",
    "                'Seen Ep V',\n",
    "                'Seen Ep VI',\n",
    "                'Rank the film from 1-6 for EP I',\n",
    "                'Rank The Film From 1-6 for EP II',\n",
    "                'Rank The Film From 1-6 for EP III',\n",
    "                'Rank The Film From 1-6 for EP IV',\n",
    "                'Rank The Film From 1-6 for EP V',\n",
    "                'Rank The Film From 1-6 for EP VI',\n",
    "                'How do you like the character: Han Solo',\n",
    "                'How do you like the character: Luke Skywalker',\n",
    "                'How do you like the character: Princess Leia Organa',\n",
    "                'How do you like the character: Anakin Skywalker',\n",
    "                'How do you like the character: Obi Wan Kenobi',\n",
    "                'How do you like the character: Emperor Palpatine',\n",
    "                'How do you like the character: Darth Vader',\n",
    "                'How do you like the character: Lando Calrissian',\n",
    "                'How do you like the character: Boba Fett',\n",
    "                'How do you like the character: C-3P0',\n",
    "                'How do you like the character: R2 D2',\n",
    "                'How do you like the character: Jar Jar Binks',\n",
    "                'How do you like the character: Padme Amidala',\n",
    "                'How do you like the character: Yoda',\n",
    "                'Which character shot first?',\n",
    "                'Familiar with the Expanded Universe?',\n",
    "                'Fan of the Expanded Universe?',\n",
    "                'Fan of the Star Trek franchise?',\n",
    "                'Gender',\n",
    "                'Age',\n",
    "                'Household Income',\n",
    "                'Education',\n",
    "                'Location (Census Region)']\n",
    "\n",
    "data['Fan of the franchise?'].fillna('No', inplace=True)\n",
    "\n",
    "data['Seen Ep I'].replace('Star Wars: Episode I  The Phantom Menace','Watched',inplace=True)\n",
    "data['Seen Ep I'].fillna('Not Watched', inplace=True)\n",
    "\n",
    "data['Seen Ep II'].replace('Star Wars: Episode II  Attack of the Clones','Watched',inplace=True)\n",
    "data['Seen Ep II'].fillna('Not Watched', inplace=True)\n",
    "\n",
    "data['Seen Ep III'].replace('Star Wars: Episode III  Revenge of the Sith','Watched',inplace=True)\n",
    "data['Seen Ep III'].fillna('Not Watched', inplace=True)\n",
    "\n",
    "data['Seen Ep IV'].replace('Star Wars: Episode IV  A New Hope','Watched',inplace=True)\n",
    "data['Seen Ep IV'].fillna('Not Watched', inplace=True)\n",
    "\n",
    "data['Seen Ep V'].replace('Star Wars: Episode V The Empire Strikes Back','Watched',inplace=True)\n",
    "data['Seen Ep V'].fillna('Not Watched', inplace=True)\n",
    "\n",
    "data['Seen Ep VI'].replace('Star Wars: Episode VI Return of the Jedi','Watched',inplace=True)\n",
    "data['Seen Ep VI'].fillna('Not Watched', inplace=True)\n",
    "\n",
    "data['Watched the Star Wars franchise?'] = data['Watched the Star Wars franchise?'].str.strip()\n",
    "data['Fan of the franchise?'] = data['Fan of the franchise?'].str.strip()\n",
    "\n",
    "# data\n",
    "data['Rank The Film From 1-6 for EP II'].value_counts()"
   ]
  },
  {
   "cell_type": "code",
   "execution_count": null,
   "metadata": {},
   "outputs": [],
   "source": []
  }
 ],
 "metadata": {
  "kernelspec": {
   "display_name": "Python 3.7.6 64-bit ('base': conda)",
   "language": "python",
   "name": "python37664bitbaseconda6937c3e0cf974f00897ed66376425a49"
  },
  "language_info": {
   "codemirror_mode": {
    "name": "ipython",
    "version": 3
   },
   "file_extension": ".py",
   "mimetype": "text/x-python",
   "name": "python",
   "nbconvert_exporter": "python",
   "pygments_lexer": "ipython3",
   "version": "3.7.6-final"
  }
 },
 "nbformat": 4,
 "nbformat_minor": 4
}